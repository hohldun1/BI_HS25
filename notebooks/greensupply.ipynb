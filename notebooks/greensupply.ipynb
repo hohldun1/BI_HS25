{
 "cells": [
  {
   "cell_type": "code",
   "execution_count": null,
   "id": "1f0f35d5",
   "metadata": {},
   "outputs": [],
   "source": [
    "from pyspark.sql import SparkSession\n",
    "from pyspark.sql.functions import col, sum as _sum, avg, countDistinct, month, year\n",
    "\n",
    "spark = (SparkSession.builder\n",
    "         .appName(\"GreenSupply-BI\")\n",
    "         .master(\"local[*]\")\n",
    "         .getOrCreate())\n",
    "\n",
    "base = \"../data\"  \n",
    "\n",
    "customers = spark.read.option(\"header\", True).option(\"inferSchema\", True).csv(f\"{base}/customers.csv\")\n",
    "products  = spark.read.option(\"header\", True).option(\"inferSchema\", True).csv(f\"{base}/products.csv\")\n",
    "orders    = spark.read.option(\"header\", True).option(\"inferSchema\", True).csv(f\"{base}/orders.csv\")\n",
    "\n",
    "df = (orders\n",
    "      .join(products, \"product_id\", \"left\")\n",
    "      .join(customers, \"customer_id\", \"left\"))\n"
   ]
  },
  {
   "cell_type": "code",
   "execution_count": 4,
   "id": "5a896e14",
   "metadata": {},
   "outputs": [
    {
     "name": "stdout",
     "output_type": "stream",
     "text": [
      "+------------+-----------------+------------------+\n",
      "|category    |total_revenue    |total_margin      |\n",
      "+------------+-----------------+------------------+\n",
      "|Taschen     |77565.26999999999|30038.15          |\n",
      "|Becher      |77493.00000000007|30168.85000000002 |\n",
      "|Füllmaterial|62928.96         |24493.069999999985|\n",
      "|Flaschen    |48152.55000000001|18747.050000000025|\n",
      "|Boxen       |28699.59000000001|11107.359999999997|\n",
      "+------------+-----------------+------------------+\n",
      "\n"
     ]
    }
   ],
   "source": [
    "by_category = (df.groupBy(\"category\")\n",
    "                 .agg(_sum(\"net_sales\").alias(\"total_revenue\"),\n",
    "                      _sum(\"contribution_margin\").alias(\"total_margin\"))\n",
    "                 .orderBy(col(\"total_revenue\").desc()))\n",
    "\n",
    "by_category.show(truncate=False)"
   ]
  },
  {
   "cell_type": "code",
   "execution_count": 5,
   "id": "88fe0445",
   "metadata": {},
   "outputs": [
    {
     "name": "stdout",
     "output_type": "stream",
     "text": [
      "Top-10 Kunden Anteil am Umsatz: 10.8%\n",
      "+-----------+-------------------------+-------+------+------------------+------------------+\n",
      "|customer_id|company_name             |segment|region|total_revenue     |total_margin      |\n",
      "+-----------+-------------------------+-------+------+------------------+------------------+\n",
      "|CUST1039   |Meier-Müller             |C      |SG    |3691.44           |1524.53           |\n",
      "|CUST1118   |Bianchi and Sons         |B      |GE    |3396.59           |1348.93           |\n",
      "|CUST1036   |Huber LLC                |B      |GE    |3262.29           |1266.4399999999998|\n",
      "|CUST1144   |Bianchi-Schäfer          |A      |ZH    |3258.6899999999996|1271.68           |\n",
      "|CUST1003   |Hürlimann-Meister        |B      |SG    |3166.22           |1214.13           |\n",
      "|CUST1197   |Stalder, Fuchs and Kohler|A      |GE    |3117.46           |1226.75           |\n",
      "|CUST1045   |Hug Group                |A      |BE    |3046.8199999999997|1194.1            |\n",
      "|CUST1062   |Schaub-Ammann            |B      |GE    |3034.0400000000004|1231.45           |\n",
      "|CUST1046   |Meier-Bolliger           |B      |BE    |2976.8599999999997|1196.01           |\n",
      "|CUST1178   |Hotz, Albrecht and Koch  |B      |SG    |2903.75           |1091.6100000000001|\n",
      "+-----------+-------------------------+-------+------+------------------+------------------+\n",
      "only showing top 10 rows\n",
      "\n"
     ]
    }
   ],
   "source": [
    "customer_rev = (df.groupBy(\"customer_id\",\"company_name\",\"segment\",\"region\")\n",
    "                  .agg(_sum(\"net_sales\").alias(\"total_revenue\"),\n",
    "                       _sum(\"contribution_margin\").alias(\"total_margin\"))\n",
    "                  .orderBy(col(\"total_revenue\").desc()))\n",
    "\n",
    "total_rev = customer_rev.agg(_sum(\"total_revenue\").alias(\"t\")).collect()[0][\"t\"]\n",
    "top10_rev = customer_rev.limit(10).agg(_sum(\"total_revenue\").alias(\"t\")).collect()[0][\"t\"]\n",
    "\n",
    "print(f\"Top-10 Kunden Anteil am Umsatz: {top10_rev/total_rev:.1%}\")\n",
    "customer_rev.show(10, truncate=False)\n"
   ]
  },
  {
   "cell_type": "code",
   "execution_count": 6,
   "id": "279eb72c",
   "metadata": {},
   "outputs": [
    {
     "name": "stdout",
     "output_type": "stream",
     "text": [
      "+----+-----+------------------+------------------+\n",
      "|year|month|total_revenue     |total_margin      |\n",
      "+----+-----+------------------+------------------+\n",
      "|2024|1    |48220.400000000016|18733.60000000001 |\n",
      "|2024|2    |43603.200000000004|16854.440000000002|\n",
      "|2024|3    |51752.63          |20199.82999999999 |\n",
      "|2024|4    |47815.02999999999 |18587.709999999995|\n",
      "|2024|5    |51005.54          |19681.160000000007|\n",
      "|2024|6    |52442.56999999996 |20497.739999999976|\n",
      "+----+-----+------------------+------------------+\n",
      "\n"
     ]
    }
   ],
   "source": [
    "monthly = (df.withColumn(\"year\", year(\"order_date\"))\n",
    "             .withColumn(\"month\", month(\"order_date\"))\n",
    "             .groupBy(\"year\",\"month\")\n",
    "             .agg(_sum(\"net_sales\").alias(\"total_revenue\"),\n",
    "                  _sum(\"contribution_margin\").alias(\"total_margin\"))\n",
    "             .orderBy(\"year\",\"month\"))\n",
    "\n",
    "monthly.show(24, truncate=False)\n"
   ]
  },
  {
   "cell_type": "code",
   "execution_count": 7,
   "id": "945a0ded",
   "metadata": {},
   "outputs": [
    {
     "name": "stdout",
     "output_type": "stream",
     "text": [
      "+------------+-------------------+-----------------+\n",
      "|category    |avg_discount       |avg_margin       |\n",
      "+------------+-------------------+-----------------+\n",
      "|Boxen       |0.07604938271604936|68.56395061728394|\n",
      "|Becher      |0.07409374999999997|94.27765625000006|\n",
      "|Flaschen    |0.0739860139860139 |65.54912587412596|\n",
      "|Taschen     |0.07377833753148616|75.66284634760706|\n",
      "|Füllmaterial|0.07146268656716409|73.11364179104473|\n",
      "+------------+-------------------+-----------------+\n",
      "\n"
     ]
    }
   ],
   "source": [
    "from pyspark.sql.functions import avg\n",
    "\n",
    "discount_effect = (df.groupBy(\"category\")\n",
    "                     .agg(avg(\"discount\").alias(\"avg_discount\"),\n",
    "                          avg(\"contribution_margin\").alias(\"avg_margin\"))\n",
    "                     .orderBy(col(\"avg_discount\").desc()))\n",
    "\n",
    "discount_effect.show(truncate=False)\n"
   ]
  },
  {
   "cell_type": "code",
   "execution_count": 8,
   "id": "825bba04",
   "metadata": {},
   "outputs": [
    {
     "name": "stdout",
     "output_type": "stream",
     "text": [
      "Wiederkaufsrate: 99.0%\n"
     ]
    }
   ],
   "source": [
    "orders_per_customer = df.groupBy(\"customer_id\").agg(countDistinct(\"order_id\").alias(\"n_orders\"))\n",
    "n_repeat = orders_per_customer.filter(col(\"n_orders\") >= 2).count()\n",
    "n_total  = orders_per_customer.count()\n",
    "print(f\"Wiederkaufsrate: {n_repeat/n_total:.1%}\")\n"
   ]
  },
  {
   "cell_type": "code",
   "execution_count": 9,
   "id": "d542bc31",
   "metadata": {},
   "outputs": [
    {
     "name": "stdout",
     "output_type": "stream",
     "text": [
      "{'missing_customer_id': 0, 'missing_product_id': 0, 'non_positive_qty': 0, 'neg_sales': 0}\n"
     ]
    }
   ],
   "source": [
    "dq = {\n",
    "    \"missing_customer_id\": df.filter(col(\"customer_id\").isNull()).count(),\n",
    "    \"missing_product_id\":  df.filter(col(\"product_id\").isNull()).count(),\n",
    "    \"non_positive_qty\":    df.filter(col(\"quantity\") <= 0).count(),\n",
    "    \"neg_sales\":           df.filter(col(\"net_sales\") < 0).count(),\n",
    "}\n",
    "print(dq)\n"
   ]
  }
 ],
 "metadata": {
  "kernelspec": {
   "display_name": "Python 3",
   "language": "python",
   "name": "python3"
  },
  "language_info": {
   "codemirror_mode": {
    "name": "ipython",
    "version": 3
   },
   "file_extension": ".py",
   "mimetype": "text/x-python",
   "name": "python",
   "nbconvert_exporter": "python",
   "pygments_lexer": "ipython3",
   "version": "3.12.1"
  }
 },
 "nbformat": 4,
 "nbformat_minor": 5
}
